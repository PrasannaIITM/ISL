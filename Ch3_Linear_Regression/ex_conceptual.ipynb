{
 "cells": [
  {
   "cell_type": "markdown",
   "id": "54bfa09b",
   "metadata": {},
   "source": [
    "1.\n",
    "\n",
    "- The p-values test the null hypotheses that **sales are unrelated** to each ad channel (**TV**, **radio**, **newspaper**), holding the others fixed.\n",
    "- Very small p-values for **TV** and **radio** (< 0.001) mean the data provide **strong evidence** that sales **do vary** with TV and radio advertising; the null hypotheses can be **rejected**.\n",
    "- The large p-value for **newspaper** (~0.86) means there’s **no evidence** here that newspaper spend is associated with sales, once TV and radio are included.\n",
    "\n",
    "> **Note:** A p-value is the probability of observing an effect at least this extreme **if** there were truly no relationship—not “the probability that the result is true.”"
   ]
  },
  {
   "cell_type": "markdown",
   "id": "51d04d6c",
   "metadata": {},
   "source": [
    "2.\n",
    "\n",
    "**k-Nearest Neighbors (KNN):**\n",
    "\n",
    "- **Classification:** For a new input $x_0$, find the k training points closest to $x_0$ (under a chosen distance metric). Predict the **majority class** (the mode) among their labels.\n",
    "\n",
    "- **Regression:** For a new input $x_0$, find the k nearest neighbors and predict the **average** of their target values.\n"
   ]
  },
  {
   "cell_type": "markdown",
   "id": "513b91a0",
   "metadata": {},
   "source": [
    "3.\n",
    "\n",
    "a.\n",
    "\n",
    "X1 = GPA, X2 = IQ, X3 = Level (1 for College and 0 for High School), X4 = Interac-\n",
    "tion between GPA and IQ, and X5 = Interaction between GPA and Level.\n",
    "\n",
    "$\\hat{\\beta_0}$ = 50,\n",
    "$\\hat{\\beta_1}$ = 20,\n",
    "$\\hat{\\beta_2}$ = 0.07,\n",
    "$\\hat{\\beta_3}$ = 35,\n",
    "$\\hat{\\beta_4}$ = 0.01,\n",
    "$\\hat{\\beta_5}$ = −10.\n",
    "\n",
    "i. For a fixed value of IQ and GPA, high school graduates earn more, on average, than college graduates. \n",
    "\n",
    "ii. For a fixed value of IQ and GPA, college graduates earn more, on average, than high school graduates.\n",
    "\n",
    "iii. For a fixed value of IQ and GPA, high school graduates earn more, on average, than college graduates provided that the GPA is high enough. \n",
    "\n",
    "iv. For a fixed value of IQ and GPA, college graduates earn more, on average, than high school graduates provided that the GPA is high enough.\n",
    "\n",
    "$$\n",
    "Y = 50 + 20 * GPA + 0.07 * IQ + 35 * Level + 0.01 * GPA * IQ - 10 * GPA * Level\n",
    "$$\n",
    "\n",
    "$$\n",
    "Y(Level=1) - Y(Level=0) = 35 - 10 * GPA \n",
    "$$\n",
    "Thus iii. is TRUE when GPA > 3.5.\n",
    "\n",
    "\n",
    "b.\n",
    "\n",
    "$$\n",
    "Y = 50 + 20*4 + 0.07*110 + 35*1 + 0.01*4*110 - 10*4\n",
    "$$\n",
    "\n",
    "c.\n",
    "\n",
    "The value of the coefficient is not the best indicator to determine whether the signficance, need to check t-stat/p-value.\n",
    "\n",
    "\n"
   ]
  },
  {
   "cell_type": "markdown",
   "id": "3f5b9e09",
   "metadata": {},
   "source": [
    "4.\n",
    "\n",
    "a. If the true relationship between Y and X is linear, but a cubic regression is fitted. The training RSS would be lower in the cubic regression case.\n",
    "\n",
    "b. The test RSS for linear regression would be lower.\n",
    "\n",
    "c. If we do not know the true relationship between Y and X, even in that case the training RSS for cubic regression would be less than the linear regression.\n",
    "\n",
    "d. Test cannot be determined with this information."
   ]
  },
  {
   "cell_type": "markdown",
   "id": "0242d6ad",
   "metadata": {},
   "source": [
    "5.\n",
    "\n",
    "$$\n",
    "\\hat{y_i} = x_i\\hat{\\beta}\n",
    "$$\n",
    "\n",
    "where\n",
    "$$\n",
    "\\hat{\\beta} = (\\sum_{i=1}^n x_iy_i) / (\\sum_{j=1}^n x_j^2)\n",
    "$$\n",
    "\n",
    "\n",
    "$$\n",
    "RSS(\\beta) = \\sum_{i=1}^n(y_i - x_i\\beta)^2 \n",
    "$$\n",
    "\n",
    "minimize RSS\n",
    "$$\n",
    "\\frac{dRSS}{d\\beta} = -2(y_i-x_i\\beta)x_i = 0\n",
    "$$\n",
    "\n",
    "$$\n",
    "\\hat{y_i} = \\frac{\\sum_{j=1}^n (x_i*x_j) * y_j}{\\sum_{j=1}^n x_j^2}\n",
    "$$\n",
    "\n",
    "We interpret this result by saying that the fitted values from linear regression are linear combinations of the response values."
   ]
  },
  {
   "cell_type": "markdown",
   "id": "c709c1c6",
   "metadata": {},
   "source": [
    "6.\n",
    "\n",
    "In the case of simple linear regression, the least squares line always passes through the point $(\\bar{x}, \\bar{y})$\n",
    "\n",
    "$$\n",
    "\\hat{y} = \\hat{\\beta_0} + \\hat{\\beta_1}x\n",
    "$$\n",
    "\n",
    "we know, $\\hat{\\beta_0} = \\bar{y} - \\hat{\\beta_1}\\bar{x}$\n",
    "\n",
    "for $x = \\bar{x}$, $\\hat{y} = \\bar{y}$\n",
    "\n"
   ]
  },
  {
   "cell_type": "markdown",
   "id": "ecba1212",
   "metadata": {},
   "source": [
    "7. Prove that in case of simple linear regression, the $R^2$ statistic is equal to the correlation between X and Y.\n",
    "\n",
    "![title](/Users/pbartakke/Documents/courses/ISL/notes/img/3.7.jpeg)\n",
    "\n"
   ]
  },
  {
   "cell_type": "code",
   "execution_count": null,
   "id": "74522bdb",
   "metadata": {
    "vscode": {
     "languageId": "plaintext"
    }
   },
   "outputs": [],
   "source": []
  },
  {
   "cell_type": "markdown",
   "id": "0e3deb97",
   "metadata": {},
   "source": []
  }
 ],
 "metadata": {
  "language_info": {
   "name": "python"
  }
 },
 "nbformat": 4,
 "nbformat_minor": 5
}
